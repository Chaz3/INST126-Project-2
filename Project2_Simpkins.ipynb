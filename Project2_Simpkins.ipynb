{
 "cells": [
  {
   "cell_type": "markdown",
   "metadata": {},
   "source": [
    "# Project #2 by Malik Simpkins"
   ]
  },
  {
   "cell_type": "markdown",
   "metadata": {},
   "source": [
    "This repo contains an introduction to [Jupyter](https://jupyter.org) and [IPython](https://ipython.org).\n",
    "\n",
    "Outline of some basics:\n",
    "\n",
    "* [Notebook Basics](../examples/Notebook/Notebook%20Basics.ipynb)\n",
    "* [IPython - beyond plain python](../examples/IPython%20Kernel/Beyond%20Plain%20Python.ipynb)\n",
    "* [Markdown Cells](../examples/Notebook/Working%20With%20Markdown%20Cells.ipynb)\n",
    "* [Rich Display System](../examples/IPython%20Kernel/Rich%20Output.ipynb)\n",
    "* [Custom Display logic](../examples/IPython%20Kernel/Custom%20Display%20Logic.ipynb)\n",
    "* [Running a Secure Public Notebook Server](../examples/Notebook/Running%20the%20Notebook%20Server.ipynb#Securing-the-notebook-server)\n",
    "* [How Jupyter works](../examples/Notebook/Multiple%20Languages%2C%20Frontends.ipynb) to run code in different languages."
   ]
  },
  {
   "cell_type": "code",
   "execution_count": 1,
   "metadata": {},
   "outputs": [
    {
     "name": "stdout",
     "output_type": "stream",
     "text": [
      "\n",
      "Let's play a haunting game of Hangman! You have 10 lives remaining. Don't waste them...\n",
      "******\n",
      "Please enter a letter, if you dare... P\n",
      "\n",
      "That letter is not a part of the word. You now have 9 lives remaining. The clock is ticking...\n",
      "******\n",
      "Please enter a letter, if you dare... P\n",
      "\n",
      "That letter is not a part of the word. You now have 8 lives remaining. The clock is ticking...\n",
      "******\n",
      "Please enter a letter, if you dare... P\n",
      "\n",
      "That letter is not a part of the word. You now have 7 lives remaining. The clock is ticking...\n",
      "******\n",
      "Please enter a letter, if you dare... P\n",
      "\n",
      "That letter is not a part of the word. You now have 6 lives remaining. The clock is ticking...\n",
      "******\n",
      "Please enter a letter, if you dare... P\n",
      "\n",
      "That letter is not a part of the word. You now have 5 lives remaining. The clock is ticking...\n",
      "******\n",
      "Please enter a letter, if you dare... P\n",
      "\n",
      "That letter is not a part of the word. You now have 4 lives remaining. The clock is ticking...\n",
      "******\n",
      "Please enter a letter, if you dare... P\n",
      "\n",
      "That letter is not a part of the word. You now have 3 lives remaining. The clock is ticking...\n",
      "******\n",
      "Please enter a letter, if you dare... P\n",
      "\n",
      "That letter is not a part of the word. You now have 2 lives remaining. The clock is ticking...\n",
      "******\n",
      "Please enter a letter, if you dare... P\n",
      "\n",
      "That letter is not a part of the word. You now have 1 lives remaining. The clock is ticking...\n",
      "******\n",
      "Please enter a letter, if you dare... P\n",
      "\n",
      "Game Over. The word was 'EHWHOD'. Now off to the shadow realm with you...\n"
     ]
    },
    {
     "data": {
      "text/plain": [
       "''"
      ]
     },
     "execution_count": 1,
     "metadata": {},
     "output_type": "execute_result"
    }
   ],
   "source": [
    "import re\n",
    "import random\n",
    "\n",
    "#Establishes the list of words that can be chosen\n",
    "ciphertext = [\"WHDSPQZ\", \"XHO\", \"TTDBFRT\", \"QQJYF\", \"ENQD\", \"DNPK\", \"CNTR\", \"EHWHOD\", \"TSVMOHOF\", \"XNOCFQGTM\"]\n",
    "\n",
    "#Establishes the number of lives that the user gets\n",
    "lives = 10\n",
    "\n",
    "#Establsihes how many letters the user gets right\n",
    "answer = 0\n",
    "\n",
    "#Establishes the positions of the characters\n",
    "num = random.randint(0, len(ciphertext)-1)\n",
    "\n",
    "#Establishes the characters to be included in each word\n",
    "chosen = ciphertext[num]\n",
    "\n",
    "#Establishes the word that is chosen from the list\n",
    "encoding = re.sub('[0-9a-zA-Z]', '*', chosen)\n",
    "\n",
    "#Saves letters that the user will guess\n",
    "guess = dict.fromkeys(encoding, 0)\n",
    "\n",
    "#Establishes the encryption of each word on the list\n",
    "def encrypt(letter, word, encoded):\n",
    "    found = False\n",
    "    if letter in word:\n",
    "        found = True\n",
    "        for i in range(0, len(word)):\n",
    "            if word[i] == letter:\n",
    "                encoded = encoded[0:i] + letter + encoded[i+1:len(encoded)]\n",
    "    return (found, encoded)\n",
    "\n",
    "#Starts the game for the user with a prompt\n",
    "print(\"\\nLet's play a haunting game of Hangman! You have %d lives remaining. Don't waste them...\" % lives)\n",
    "print(encoding)\n",
    "\n",
    "#Sets up the conditions for the user as they play\n",
    "while(lives > 0):\n",
    "    #Saves the letters that the user will guess\n",
    "    plaintext = input(\"Please enter a letter, if you dare... \")[:1]\n",
    "    \n",
    "    #Saves the letters that are correct\n",
    "    letter_found, encoded_word = encrypt(plaintext, chosen, encoding)\n",
    "    #Establishes condition if letter is not found, and how it decreases the numebr of lives with each wrong guess as well as the \"Game Over\" text\n",
    "    if not letter_found:\n",
    "        lives -= 1\n",
    "        if lives == 0:\n",
    "            print(\"\\nGame Over. The word was '%s'. Now off to the shadow realm with you...\" % chosen)\n",
    "            break\n",
    "        else:\n",
    "            print(\"\\nThat letter is not a part of the word. You now have %d lives remaining. The clock is ticking...\" % lives)\n",
    "            print(encoding)\n",
    "    #Establishes condition if correct letters are found, inlcuding the winning text if all letters are guessed correctly\n",
    "    else:\n",
    "        if not \"*\" in encoding:\n",
    "            print(\"\\nWell, look at that. You actually won with %d lives remaining. The word was '%s'. Looks like you get to live another day\" % (lives, chosen))\n",
    "            break\n",
    "        else:\n",
    "            guess[plaintext] = 1\n",
    "            answer += 1\n",
    "            print(\"\\nGood job! That letter was found. You still have %d lives remaining.\" % lives)\n",
    "            print(encoding)\n",
    "#Takes the initial word that was guessed by the user and decrypts it so that it presents the reeal word to the user\n",
    "def decrypt(encoding):\n",
    "    decryption = ''\n",
    "    for x in encoding:\n",
    "        original = ord(x)\n",
    "        reverse = ord('a') + ord('z') - original\n",
    "    return decryption\n",
    "decrypt(encoding)"
   ]
  }
 ],
 "metadata": {
  "kernelspec": {
   "display_name": "Python 3",
   "language": "python",
   "name": "python3"
  },
  "language_info": {
   "codemirror_mode": {
    "name": "ipython",
    "version": 3
   },
   "file_extension": ".py",
   "mimetype": "text/x-python",
   "name": "python",
   "nbconvert_exporter": "python",
   "pygments_lexer": "ipython3",
   "version": "3.6.11"
  }
 },
 "nbformat": 4,
 "nbformat_minor": 2
}
